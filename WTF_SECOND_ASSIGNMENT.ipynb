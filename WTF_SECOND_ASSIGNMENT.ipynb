{
  "nbformat": 4,
  "nbformat_minor": 0,
  "metadata": {
    "colab": {
      "provenance": [],
      "collapsed_sections": []
    },
    "kernelspec": {
      "name": "python3",
      "display_name": "Python 3"
    },
    "language_info": {
      "name": "python"
    }
  },
  "cells": [
    {
      "cell_type": "markdown",
      "source": [
        "**29th September** **2022**"
      ],
      "metadata": {
        "id": "YxZAJjhRlyyh"
      }
    },
    {
      "cell_type": "markdown",
      "source": [
        "1.\n",
        "Write a function called showNumbers that takes a parameter called limit. It should print\n",
        "all the numbers between 0 and limit with a label to identify the even and odd numbers.\n",
        "For example, if the limit is 3, it should print:0 EVEN 1 ODD 2 EVEN 3 ODD\n"
      ],
      "metadata": {
        "id": "iB3sNp6jk3OX"
      }
    },
    {
      "cell_type": "code",
      "source": [
        "def showNumbers(limit):\n",
        "  for i in range(limit+1):\n",
        "    if i==0:\n",
        "      print(i, '-', end='')\n",
        "      print('even')\n",
        "\n",
        "    elif i%2==0:\n",
        "        print(i,'-',  end='')\n",
        "        print('even')\n",
        "\n",
        "    else:\n",
        "          print(i, '-', end='')\n",
        "          print('odd')"
      ],
      "metadata": {
        "id": "p85FV4ZQlVpj"
      },
      "execution_count": 27,
      "outputs": []
    },
    {
      "cell_type": "code",
      "source": [
        "print(showNumbers(10))"
      ],
      "metadata": {
        "colab": {
          "base_uri": "https://localhost:8080/"
        },
        "id": "Yqphnwibpi6M",
        "outputId": "f1de9c2f-9e72-4288-9dba-d22c00000eca"
      },
      "execution_count": 28,
      "outputs": [
        {
          "output_type": "stream",
          "name": "stdout",
          "text": [
            "0 -even\n",
            "1 -odd\n",
            "2 -even\n",
            "3 -odd\n",
            "4 -even\n",
            "5 -odd\n",
            "6 -even\n",
            "7 -odd\n",
            "8 -even\n",
            "9 -odd\n",
            "10 -even\n",
            "None\n"
          ]
        }
      ]
    },
    {
      "cell_type": "markdown",
      "source": [
        "2. Write a function that returns the sum of multiples of 3 and 5 between 0\n",
        "and limit (parameter). For example, if limit is 20, it should return the sum of 3, 5, 6, 9, 10,\n",
        "12, 15, 18, 20."
      ],
      "metadata": {
        "id": "9LAts6bxrS_J"
      }
    },
    {
      "cell_type": "code",
      "source": [
        "def sum_of_multiples(limit):\n",
        "  for i in range(limit):\n",
        "    if i%3==0:\n",
        "      print(i)\n",
        "      if i%5==0:\n",
        "        print(i)\n",
        "    "
      ],
      "metadata": {
        "id": "cBs6Uvpsp0v0"
      },
      "execution_count": 24,
      "outputs": []
    },
    {
      "cell_type": "code",
      "source": [
        "print(sum_of_multiples(30))"
      ],
      "metadata": {
        "colab": {
          "base_uri": "https://localhost:8080/"
        },
        "id": "HoEw3kYJsa_W",
        "outputId": "84a59762-a50c-45a6-f7fd-f25ca4494abc"
      },
      "execution_count": 26,
      "outputs": [
        {
          "output_type": "stream",
          "name": "stdout",
          "text": [
            "0\n",
            "0\n",
            "3\n",
            "6\n",
            "9\n",
            "12\n",
            "15\n",
            "15\n",
            "18\n",
            "21\n",
            "24\n",
            "27\n",
            "30\n",
            "30\n",
            "None\n"
          ]
        }
      ]
    },
    {
      "cell_type": "markdown",
      "source": [
        "3. Write a function called show_stars(rows). If rows is 5, it should print the\n",
        "following:***************    \n"
      ],
      "metadata": {
        "id": "sbBjKkFEtdQb"
      }
    },
    {
      "cell_type": "code",
      "source": [
        "def show_stars(rows):\n",
        "  for i in range(rows):\n",
        "    for j in range(i+1):\n",
        "      print('* ', end = ' ')\n",
        "      #new line after each row\n",
        "    print('\\r')\n",
        "     \n"
      ],
      "metadata": {
        "id": "I6RQEokms-ZN"
      },
      "execution_count": 61,
      "outputs": []
    },
    {
      "cell_type": "code",
      "source": [
        "print(show_stars(5))"
      ],
      "metadata": {
        "colab": {
          "base_uri": "https://localhost:8080/"
        },
        "id": "8h0EJXM6wdBr",
        "outputId": "077e80eb-b1ae-4ed4-d1b8-f5e72691e0bf"
      },
      "execution_count": 62,
      "outputs": [
        {
          "output_type": "stream",
          "name": "stdout",
          "text": [
            "*  \r\n",
            "*  *  \r\n",
            "*  *  *  \r\n",
            "*  *  *  *  \r\n",
            "*  *  *  *  *  \r\n",
            "None\n"
          ]
        }
      ]
    },
    {
      "cell_type": "markdown",
      "source": [
        "4. Write a function that prints all the prime numbers between 0 and limit where limit is a\n",
        "parameter."
      ],
      "metadata": {
        "id": "XEWsaEnW1odb"
      }
    },
    {
      "cell_type": "code",
      "source": [
        "def prime_numbers(limit):\n",
        "  for i in range(2, limit):\n",
        "    for j in range(2, i):\n",
        "      if i%j== 0:\n",
        "        break\n",
        "      else:\n",
        "        print(i)\n",
        "        "
      ],
      "metadata": {
        "id": "1CqLCORkwqQG"
      },
      "execution_count": 118,
      "outputs": []
    },
    {
      "cell_type": "code",
      "source": [
        "print(prime_numbers(10))"
      ],
      "metadata": {
        "colab": {
          "base_uri": "https://localhost:8080/"
        },
        "id": "BNsWblwW2Ylp",
        "outputId": "07f5b6f0-da34-4ba5-c801-25d4c8a27549"
      },
      "execution_count": 119,
      "outputs": [
        {
          "output_type": "stream",
          "name": "stdout",
          "text": [
            "3\n",
            "5\n",
            "5\n",
            "5\n",
            "7\n",
            "7\n",
            "7\n",
            "7\n",
            "7\n",
            "9\n",
            "None\n"
          ]
        }
      ]
    },
    {
      "cell_type": "markdown",
      "source": [
        "5. Write a program (function!) that takes a list and returns a new list that contains all the\n",
        "elements of the first list minus all the duplicates.\n"
      ],
      "metadata": {
        "id": "RQrV6S5O-v7j"
      }
    },
    {
      "cell_type": "code",
      "source": [
        "def removeDuplicates(l):\n",
        "    return list(set(l))\n",
        "mylist = [1, 2, 3, 4, 2, 3, 4, 2, 3, 4]\n",
        "newList = removeDuplicates(mylist)\n",
        "print(newList)\n"
      ],
      "metadata": {
        "colab": {
          "base_uri": "https://localhost:8080/"
        },
        "id": "VWVhlxvQ3AIT",
        "outputId": "42f61e64-479f-490a-c135-ad2c9edeb10f"
      },
      "execution_count": 123,
      "outputs": [
        {
          "output_type": "stream",
          "name": "stdout",
          "text": [
            "[1, 2, 3, 4]\n"
          ]
        }
      ]
    },
    {
      "cell_type": "markdown",
      "source": [
        "6. Write a function to ask the user for a number and determine whether the number is\n",
        "prime or not."
      ],
      "metadata": {
        "id": "klXyTh0UATDu"
      }
    },
    {
      "cell_type": "code",
      "source": [
        "def number(r):\n",
        "  for x in range(2, int(r/2)+1):\n",
        "    if (r % x) == 0:\n",
        "      print(r, \" is not a prime number\")\n",
        "  else:\n",
        "      print(r, \" is a prime number\")\n"
      ],
      "metadata": {
        "id": "W_BtN8NH_ohl"
      },
      "execution_count": 127,
      "outputs": []
    },
    {
      "cell_type": "code",
      "source": [
        "number(10)"
      ],
      "metadata": {
        "colab": {
          "base_uri": "https://localhost:8080/"
        },
        "id": "fNWipoqOFsKb",
        "outputId": "78166f3d-0e2b-4208-93a7-eedd6f4e7952"
      },
      "execution_count": 128,
      "outputs": [
        {
          "output_type": "stream",
          "name": "stdout",
          "text": [
            "10  is not a prime number\n",
            "10  is not a prime number\n",
            "10  is a prime number\n"
          ]
        }
      ]
    },
    {
      "cell_type": "markdown",
      "source": [
        "7. Write a program that asks the user how many Fibonnaci numbers to generate and then\n",
        "generates them."
      ],
      "metadata": {
        "id": "mhmaHyCPOb-k"
      }
    },
    {
      "cell_type": "code",
      "source": [
        "def fib (x, y):\n",
        "    return x + y\n",
        "\n",
        "number = int(input(\"How many Fibonacci numbers should I generate? \"))\n",
        "\n",
        "fibonacci = []\n",
        "for n in range(number):\n",
        "    if n in [0, 1]:\n",
        "        fibonacci += [1]\n",
        "    else:\n",
        "        fibonacci += [fib(fibonacci[n-2], fibonacci[n-1])]\n",
        "\n",
        "print(\"The first\", number, \"Fibonacci numbers are:\", fibonacci)"
      ],
      "metadata": {
        "colab": {
          "base_uri": "https://localhost:8080/"
        },
        "id": "hYupq8D6Fu3W",
        "outputId": "2825f7c4-da37-4605-dd78-1ef9b8caadb9"
      },
      "execution_count": 129,
      "outputs": [
        {
          "output_type": "stream",
          "name": "stdout",
          "text": [
            "How many Fibonacci numbers should I generate? 5\n",
            "The first 5 Fibonacci numbers are: [1, 1, 2, 3, 5]\n"
          ]
        }
      ]
    },
    {
      "cell_type": "markdown",
      "source": [
        "8. Write a function that ask the user for a string and print out whether this string is a\n",
        "palindrome or not."
      ],
      "metadata": {
        "id": "oPbTDVaGO9I3"
      }
    },
    {
      "cell_type": "code",
      "source": [
        "string=input((\"Enter a string:\"))\n",
        "if(string==string[::-1]):\n",
        "      print(\"The string is a palindrome\")\n",
        "else:\n",
        "      print(\"Not a palindrome\")"
      ],
      "metadata": {
        "colab": {
          "base_uri": "https://localhost:8080/"
        },
        "id": "uHbK9EXeP9b-",
        "outputId": "f096a309-ca16-4341-bcfa-54da4f69b132"
      },
      "execution_count": 138,
      "outputs": [
        {
          "output_type": "stream",
          "name": "stdout",
          "text": [
            "Enter a string:madam\n",
            "The string is a palindrome\n"
          ]
        }
      ]
    },
    {
      "cell_type": "markdown",
      "source": [
        "9. Write a function that takes an ordered list of numbers (a list where the elements are in\n",
        "order from smallest to largest) and another number."
      ],
      "metadata": {
        "id": "4wjY9qX2RbYK"
      }
    },
    {
      "cell_type": "code",
      "source": [
        "scores = [1, 5, 4,  7, 4, 6, 10, 9, 8]\n",
        "scores.sort()\n",
        "\n",
        "print(scores)"
      ],
      "metadata": {
        "colab": {
          "base_uri": "https://localhost:8080/"
        },
        "id": "BBCzi6PjRB2m",
        "outputId": "ef6e4cfb-8905-45d5-ebc2-79312e461d36"
      },
      "execution_count": 140,
      "outputs": [
        {
          "output_type": "stream",
          "name": "stdout",
          "text": [
            "[1, 4, 4, 5, 6, 7, 8, 9, 10]\n"
          ]
        }
      ]
    },
    {
      "cell_type": "markdown",
      "source": [
        "10. Create a program that asks the user to enter their name and their age. Print out a\n",
        "message addressed to them that tells them the year that they will turn 100 years old."
      ],
      "metadata": {
        "id": "L3sDIYlcSpnT"
      }
    },
    {
      "cell_type": "code",
      "source": [
        "name = str(input(\"Enter your name: \"))\n",
        "age = int(input(\"Enter your age: \"))\n",
        "future = 2022 + (100 - age)\n",
        "print(name, \"you will be 100 years in \", future)"
      ],
      "metadata": {
        "colab": {
          "base_uri": "https://localhost:8080/"
        },
        "id": "okOUc1L5SnUG",
        "outputId": "25f293cd-3822-4291-c4c2-529fc42db252"
      },
      "execution_count": 141,
      "outputs": [
        {
          "output_type": "stream",
          "name": "stdout",
          "text": [
            "Enter your name: Micheal\n",
            "Enter your age: 35\n",
            "Micheal you will be 100 years in  2087\n"
          ]
        }
      ]
    },
    {
      "cell_type": "code",
      "source": [],
      "metadata": {
        "id": "HxkNM-DLTAMl"
      },
      "execution_count": null,
      "outputs": []
    }
  ]
}